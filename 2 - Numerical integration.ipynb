{
 "cells": [
  {
   "cell_type": "markdown",
   "metadata": {},
   "source": [
    "# Data Science 2\n",
    "## Numerical analysis - Numerical integration\n",
    "\n",
    "The following material is covered in Chapter 6 - *Numerical Integration* of the book *Numerical methods in engineering with Python 3* by Jaan Kiusalaas (see BlackBoard)."
   ]
  },
  {
   "cell_type": "markdown",
   "metadata": {},
   "source": [
    "### Introduction\n",
    "\n",
    "[Numerical integration](https://en.wikipedia.org/wiki/Numerical_integration), also known as *quadrature*, is intrinsically a much more accurate procedure than numerical differentiation. Quadrature approximates the definite integral\n",
    "\n",
    "$$\n",
    "I = \\int_a^b f(x) \\text{d}x\n",
    "$$\n",
    "\n",
    "by the sum\n",
    "\n",
    "$$\n",
    "I \\approx \\sum_{i=0}^n A_i f(x_i)\n",
    "$$\n",
    "\n",
    "where the *abscissas* $x_i$ and *weights* $A_i$ depend on the particular rule used for the quadrature. All rules of quadrature are derived from polynomial interpolation of the integrand. Therefore, they work best if $f(x)$ can be approximated by a polynomial."
   ]
  },
  {
   "cell_type": "markdown",
   "metadata": {},
   "source": [
    "### Newton-Cotes Formulas\n",
    "\n",
    "[Newton-Cotes formulas](https://en.wikipedia.org/wiki/Newton%E2%80%93Cotes_formulas) are characterized by equally spaced abscissas and include well-known methods such as the trapezoidal rule and Simpson’s rule. They are most useful if $f(x)$ has already been computed at equal intervals or can be computed at low cost. Because Newton-Cotes formulas are based on local interpolation, they require only a piecewise fit to a polynomial.\n",
    "\n",
    "Consider the definite integral $I = \\int_a^b f(x) \\text{d}x$. We divide the range of integration $a < x < b$ into $n$ equal intervals of length $h = \\frac{b-a}{n}$, and denote the abscissas of the resulting nodes by $x_0$, $x_1$ ,... , $x_n$. Next we approximate $f(x)$ by a polynomial of degree $n$ that intersects all the nodes.\n",
    "\n",
    "If $n = 1$, we approximate the function $f(x)$ by a linear function. The area under the curve therefore corresponds with a trapezoid. Its area equals\n",
    "\n",
    "$$\n",
    "I = \\left( f(a) + f(b) \\right) \\frac{h}{2}\n",
    "$$\n",
    "\n",
    "This is known as the [trapezoidal rule](https://en.wikipedia.org/wiki/Trapezoidal_rule). In practice the trapezoidal rule is applied in a piecewise fashion. The function $f(x)$ to be integrated is approximated by a piecewise linear function through all points $(x_i, f(x_i))$. From the trapezoidal rule we obtain for the approximate total area representing $\\int_a^b f(x) \\text{d}x$\n",
    "\n",
    "$$\n",
    "I = \\sum_{i=0}^{n-1} I_i = \\left( f(x_0) + 2 f(x_1) + 2 f(x_2) + \\ldots + 2 f(x_{n-1}) + f(x_n) \\right) \\frac{h}{2}\n",
    "$$\n",
    "\n",
    "which is the *composite trapezoidal rule*.\n",
    "\n",
    "It can be shown that the error in each term $I_i$ is of the order $\\mathcal{O}(h^3)$. However, because the number of trapezoids equals $n = \\frac{b-a}{h}$, the error of the composite trapezoidal rule cumulates to $\\mathcal{O}(h^2)$.\n",
    "\n",
    "**Exercise 1**\n",
    "\n",
    "Complete the below function `trapezoid()` that implements the composite trapezoidal rule. Choose a reasonable default for the number of intervals."
   ]
  },
  {
   "cell_type": "code",
   "execution_count": 1,
   "metadata": {},
   "outputs": [],
   "source": [
    "def trapezoid(f, a, b, n=1000):\n",
    "    \"\"\"df = trapezoid(f, a, b, n=1000).\n",
    "    Calculates the definite integral of the function f(x)\n",
    "    from a to b using the composite trapezoidal rule with\n",
    "    n subdivisions (with default n=...).\n",
    "    a = begin range\n",
    "    b = end range\n",
    "    \"\"\"  \n",
    "    h = (b-a) / n\n",
    "    I = f(a)+f(b)\n",
    "    for i in range(1, n):\n",
    "        xi = a + i*h  # Calculates each X value\n",
    "        I += 2*f(xi)  # calculates according to the comp trap rule\n",
    "    I *= h/2\n",
    "    return I"
   ]
  },
  {
   "cell_type": "markdown",
   "metadata": {},
   "source": [
    "Below, we apply the composite trapezoidal rule to calculate the integral of the cosine function from $-\\frac{\\pi}{2}$ to $\\frac{\\pi}{2}$, which analytically evaluates to $\\int_{-\\pi/2}^{\\pi/2} \\cos(x) \\text{d}x = \\sin(\\frac{\\pi}{2}) - \\sin(-\\frac{\\pi}{2}) = 2$. Verify that the error of the composite trapezoidal rule is of order $\\mathcal{O}(h^2)$."
   ]
  },
  {
   "cell_type": "code",
   "execution_count": 2,
   "metadata": {},
   "outputs": [
    {
     "name": "stdout",
     "output_type": "stream",
     "text": [
      "n =        1:  1.924e-16 (error=-2.0e+00)\n",
      "n =       10:  1.984e+00 (error=-1.6e-02)\n",
      "n =      100:  2.000e+00 (error=-1.6e-04)\n",
      "n =     1000:  2.000e+00 (error=-1.6e-06)\n",
      "n =    10000:  2.000e+00 (error=-1.6e-08)\n",
      "n =   100000:  2.000e+00 (error=-1.6e-10)\n"
     ]
    }
   ],
   "source": [
    "# Example: integral of cos(x) from -pi/2 to pi/2\n",
    "from math import cos, pi\n",
    "\n",
    "ns = [1, 10, 100, 1000, 10000, 100000]\n",
    "I_exact = 2.0\n",
    "for n in ns:\n",
    "    I_trapezoid = trapezoid(cos, -0.5 * pi, 0.5 * pi, n)\n",
    "    print(f'n = {n:8}: {I_trapezoid:10.3e} (error={I_trapezoid-I_exact:8.1e})')"
   ]
  },
  {
   "cell_type": "markdown",
   "metadata": {},
   "source": [
    "### Recursive Trapezoidal Rule\n",
    "\n",
    "Let $I_k$ be the integral evaluated with the composite trapezoidal rule using $2^k$ panels. Note that if $k$ is increased by one, the number of panels is doubled. Using the notation $h_k=\\frac{b−a}{2^k}$ for the interval size, we obtain the following results.\n",
    "\n",
    "* $k = 0$ (one panel):\n",
    "\n",
    "$$\n",
    "I_0 = \\left( f(a) + f(b) \\right) \\frac{h_0}{2}\n",
    "$$\n",
    "\n",
    "* $k = 1$ (two panels):\n",
    "\n",
    "$$\n",
    "I_1 = \\left( f(a) + 2 f(a+h_1) + f(b) \\right) \\frac{h_1}{2} = \\frac{1}{2} I_0 + f(a+h_1) h_1\n",
    "$$\n",
    "\n",
    "* $k = 2$ (four panels):\n",
    "\n",
    "$$\n",
    "I_2 = \\left( f(a) + 2 f(a+h_2) + 2 f(a+2h_2) + 2 f(a+3h_2) + f(b) \\right) \\frac{h_2}{2} = \\frac{1}{2} I_1 + \\left( f(a+h_2) + f(a+3h_2) \\right) h_2\n",
    "$$\n",
    "\n",
    "We can now see that for arbitrary $k > 0$ we have\n",
    "\n",
    "$$\n",
    "I_k = \\frac{1}{2} I_{k-1} + h_k \\cdot \\sum_{i=1, 3, 5, \\ldots, 2^k-1} f(a+i \\cdot h_k)\n",
    "$$\n",
    "\n",
    "which is the *recursive trapezoidal rule*. Observe that the summation contains only the new nodes that were created when the number of panels was doubled. Therefore, the computation of the entire sequence $I_0, I_1, \\ldots, I_k$ involves the same amount of algebra as the calculation of $I_k$ directly.\n",
    "\n",
    "However, the advantage of using the recursive trapezoidal rule is that it allows us to monitor convergence and terminate the process when the difference between $I_{k−1}$ and $I_k$ becomes sufficiently small.\n",
    "\n",
    "**Exercise 2**\n",
    "\n",
    "Rewrite the function `trapezoid()` such that it computes $I_k$ iteratively, given $I_{k−1}$, until it achieves an estimated accuracy set by the user through the tolerance parameter `tol` (i.e., stop when $|I_k - I_{k−1}| < \\text{tol}$). Again, pick a reasonable default value for that tolerance parameter."
   ]
  },
  {
   "cell_type": "code",
   "execution_count": 3,
   "metadata": {},
   "outputs": [
    {
     "data": {
      "text/plain": [
       "1.125"
      ]
     },
     "execution_count": 3,
     "metadata": {},
     "output_type": "execute_result"
    }
   ],
   "source": [
    "hk = lambda a, b, k: (b-a)/(2**k)\n",
    "hk(1, 10, 3)"
   ]
  },
  {
   "cell_type": "code",
   "execution_count": 4,
   "metadata": {},
   "outputs": [
    {
     "data": {
      "text/plain": [
       "1.999999999976045"
      ]
     },
     "execution_count": 4,
     "metadata": {},
     "output_type": "execute_result"
    }
   ],
   "source": [
    "import numpy as np\n",
    "\n",
    "def trapezoid(f, a, b, tol=1e-6):\n",
    "    \"\"\"df = trapezoid(f, a, b, tol=...).\n",
    "    Calculates the definite integral of the function f(x)\n",
    "    from a to b using the recursive trapezoidal rule with\n",
    "    an absolute tolerance tol (with default ...).\n",
    "    \"\"\"\n",
    "    hk = lambda a, b, k: (b-a)/(2**k)\n",
    "    \n",
    "    h0 = hk(a, b, 0)\n",
    "    I0 = (f(a)+f(b))*(h0/2)  # with k=0\n",
    "    h1 = hk(a, b, 1)\n",
    "    I1 = (1/2)*I0 + f(a+h1)*h1  # with k=1\n",
    "    \n",
    "    for k in range(2, 100, 1):\n",
    "        if abs(I1-I0) < tol:  # I1 = Ik and I0 = I_k-1\n",
    "#             return 'I = {:.16E}, Error = {:.3E}'.format(I1, I1-I0)\n",
    "            return I1\n",
    "        else:\n",
    "            I0 = I1  # Update the value for I_k-1\n",
    "            # calculate the next value for Ik\n",
    "            # No need for -1, because endpoint is not included\n",
    "            varsum = 0\n",
    "            for i in range(1, 2**k, 2):  \n",
    "                varsum += f(a+i*hk(a, b, k))\n",
    "            I1 = (1/2)*I0 + hk(a, b, k)*varsum\n",
    "#             print(I1-I0)\n",
    "            \n",
    "    # 1.  calculate I0 and I1, subtract the values to see if < tol\n",
    "    # 2.  save the previous value and loop through I2+ and every loop checking the tol\n",
    "    # 3. If less then tolerance, break loop and return Ik\n",
    "    \n",
    "trapezoid(np.cos, -0.5 * np.pi, 0.5 * np.pi, 1e-10)"
   ]
  },
  {
   "cell_type": "markdown",
   "metadata": {},
   "source": [
    "Below, we again apply the recursive version of the composite trapezoidal rule to calculate the integral of the cosine function from $-\\frac{\\pi}{2}$ to $\\frac{\\pi}{2}$. Verify that the specified tolerance (or better) is indeed reached."
   ]
  },
  {
   "cell_type": "code",
   "execution_count": 5,
   "metadata": {},
   "outputs": [
    {
     "name": "stdout",
     "output_type": "stream",
     "text": [
      "I:  1.999975e+00 (error=-2.5e-05)\n"
     ]
    }
   ],
   "source": [
    "# Example: integral of cos(x) from -pi/2 to pi/2\n",
    "I_exact=2\n",
    "I_trapezoid = trapezoid(np.cos, -0.5 * np.pi, 0.5 * np.pi, 1e-4)\n",
    "print(f'I: {I_trapezoid:13.6e} (error={I_trapezoid-I_exact:8.1e})')"
   ]
  },
  {
   "cell_type": "markdown",
   "metadata": {},
   "source": [
    "### Simpson's Rule\n",
    "\n",
    "[Simpson's rule](https://en.wikipedia.org/wiki/Simpson%27s_rule) can be obtained from Newton-Cotes formulas with $n = 2$; that is, by passing a parabolic interpolant through three adjacent nodes, each separated by $h$. The area under the parabola, which represents an approximation of $I = \\int_a^b f(x) \\text{d}x$, can be shown to equal\n",
    "\n",
    "$$\n",
    "I = \\left( f(a) + 4 f(\\frac{a+b}{2}) + f(b) \\right) \\frac{h}{3}\n",
    "$$\n",
    "\n",
    "To obtain the *composite Simpson's rule*, the integration range $(a, b)$ is divided into $n$ panels (with $n$ even) of width $h = \\frac{b − a}{n}$ each. Applying the above formula to two adjacent panels, we obtain\n",
    "\n",
    "$$\n",
    "I = \\left( f(x_0) + 4f(x_1) + 2f(x_2) + 4f(x_3) + \\ldots + 2f(x_{n−2}) + 4f(x_{n−1}) + f(x_n) \\right) \\frac{h}{3}\n",
    "$$\n",
    "\n",
    "The composite Simpson's rule is perhaps the best known method of numerical integration. However, its reputation is somewhat undeserved, because the trapezoidal rule is more robust and Romberg integration (below) is more efficient.\n",
    "\n",
    "**Exercise 3**\n",
    "\n",
    "Write a function `simpson()` that implements the composite Simpson's rule."
   ]
  },
  {
   "cell_type": "code",
   "execution_count": 6,
   "metadata": {},
   "outputs": [],
   "source": [
    "def simpson(f, a, b, n=1000):\n",
    "    \"\"\"df = simpson(f, a, b, n=...).\n",
    "    Calculates the definite integral of the function f(x)\n",
    "    from a to b using the composite Simpson's\n",
    "    rule with n subdivisions (with default n=...).\n",
    "    \"\"\"\n",
    "    n += n % 2  # Makes the n a even number\n",
    "    h = (b-a) / n\n",
    "    I = f(a)+f(b)\n",
    "    \n",
    "    for i in range(1, n, 2):\n",
    "        xi = a + i*h\n",
    "        I += 4*f(xi)\n",
    "    \n",
    "    for i in range(2, n, 2):\n",
    "        xi = a + i*h\n",
    "        I += 2*f(xi)\n",
    "    I *= (h/3)\n",
    "    return I\n",
    "\n",
    "def simpson2(f, a, b, n=1000):\n",
    "    \"\"\"df = simpson(f, a, b, n=...).\n",
    "    Calculates the definite integral of the function f(x)\n",
    "    from a to b using the composite Simpson's\n",
    "    rule with n subdivisions (with default n=...).\n",
    "    \"\"\"\n",
    "    n += n % 2  # Makes the n a even number\n",
    "    h = (b-a) / n\n",
    "    I = f(a)+f(b)\n",
    "    \n",
    "    for i in range(1, n):\n",
    "        if i % 2 == 1:\n",
    "            xi = a + i*h\n",
    "            I += 4*f(xi)\n",
    "        elif i % 2 == 0:\n",
    "            xi = a + i*h\n",
    "            I += 2*f(xi)\n",
    "            \n",
    "    I *= (h/3)\n",
    "    return I"
   ]
  },
  {
   "cell_type": "markdown",
   "metadata": {},
   "source": [
    "We once more apply the composite Simpson's rule to the cosine integral. What is the order of the method, and why does its accuracy start to break up when $n$ reaches 10000?"
   ]
  },
  {
   "cell_type": "code",
   "execution_count": 7,
   "metadata": {},
   "outputs": [
    {
     "name": "stdout",
     "output_type": "stream",
     "text": [
      "n =        1:  2.094e+00 (error= 9.4e-02)\n",
      "n =       10:  2.000e+00 (error= 1.1e-04)\n",
      "n =      100:  2.000e+00 (error= 1.1e-08)\n",
      "n =     1000:  2.000e+00 (error= 1.1e-12)\n",
      "n =    10000:  2.000e+00 (error=-1.2e-14)\n",
      "n =   100000:  2.000e+00 (error= 2.7e-15)\n",
      "n =        1:  2.094e+00 (error= 9.4e-02)\n",
      "n =       10:  2.000e+00 (error= 1.1e-04)\n",
      "n =      100:  2.000e+00 (error= 1.1e-08)\n",
      "n =     1000:  2.000e+00 (error= 1.1e-12)\n",
      "n =    10000:  2.000e+00 (error=-7.5e-15)\n",
      "n =   100000:  2.000e+00 (error=-2.0e-14)\n"
     ]
    }
   ],
   "source": [
    "# Example: integral of cos(x) from -pi/2 to pi/2\n",
    "I_exact = 2.0\n",
    "for n in ns:\n",
    "    I_simpson = simpson(cos, -0.5 * pi, 0.5 * pi, n)\n",
    "    print(f'n = {n:8}: {I_simpson:10.3e} (error={I_simpson-I_exact:8.1e})')\n",
    "    \n",
    "for n in ns:\n",
    "    I_simpson2 = simpson2(cos, -0.5 * pi, 0.5 * pi, n)\n",
    "    print(f'n = {n:8}: {I_simpson2:10.3e} (error={I_simpson2-I_exact:8.1e})')"
   ]
  },
  {
   "cell_type": "code",
   "execution_count": 8,
   "metadata": {},
   "outputs": [],
   "source": [
    "# Order to the -4th, look in the middle, the order changes -4 (-4, -8, -12). So the error in the formula should be h**4"
   ]
  },
  {
   "cell_type": "markdown",
   "metadata": {},
   "source": [
    "Simpson's rule can also be converted to a recursive form. However, this is a bit more challenging because the weights of the odd and even terms alternate.\n",
    "\n",
    "### Romberg Integration\n",
    "\n",
    "[Romberg integration](https://en.wikipedia.org/wiki/Romberg%27s_method) is based on the trapezoidal rule. It evaluates an integral using a series of different interval sizes. Subsequently, these various answers are averaged using carefully chosen weights that are tuned in such a way that the errors tend to cancel. Thus, a solution can be found that is much more accurate than any of the individual evaluations. This approach of combining multiple solutions is called [Richardson extrapolation](https://en.wikipedia.org/wiki/Richardson_extrapolation).\n",
    "\n",
    "We will not derive the method here, but merely describe it. For more details, see the book chapter.\n",
    "\n",
    "Let us first introduce the notation $R_{k,0} = I_k$, where, as before, $I_k$ represents the approximate value of $I = \\int_a^b f(x) \\text{d}x$ computed by the recursive trapezoidal rule using $2^k$ panels. Romberg integration starts with the computation of $R_{0,0} = I_0$ (one panel) and $R_{1,0} = I_1$ (two panels) from the trapezoidal rule. We already know that these have an error of order $\\mathcal{O}(h^2)$. These two estimates are combined linearly in order to obtain a better estimate according to $R_{1,1} = \\frac{4}{3} R_{1,0} - \\frac{1}{3} R_{0,0}$ that turns out to have an error $\\mathcal{O}(h^4)$.\n",
    "\n",
    "It is convenient to store the results in a triangular array of the form\n",
    "\n",
    "$$\n",
    "\\begin{array}{cc}\n",
    "R_{0,0} = I_0 &\\\\\n",
    "& R_{1,1} = \\frac{4}{3} R_{1,0} - \\frac{1}{3} R_{0,0}\\\\\n",
    "R_{1,0} = I_1 &\n",
    "\\end{array}\n",
    "$$\n",
    "\n",
    "The next step is to calculate $R_{2,0} = I_2$ (four panels) and repeat the combination procedure with $R_{1,0}$ and $R_{2,0}$, storing the result as $R_{2,1} = \\frac{4}{3} R_{2,0} - \\frac{1}{3} R_{1,0}$. The elements $R_{2,0}$ and $R_{2,1}$ are now both $\\mathcal{O}(h^4)$ approximations, which can in turn be combined to obtain $R_{2,2} = \\frac{16}{15} R_{2,1} - \\frac{1}{15} R_{1,1}$ with error $\\mathcal{O}(h^6)$. The array has now expanded to\n",
    "\n",
    "$$\n",
    "\\begin{array}{ccc}\n",
    "R_{0,0} = I_0 & &\\\\\n",
    "& R_{1,1} = \\frac{4}{3} R_{1,0} - \\frac{1}{3} R_{0,0} &\\\\\n",
    "R_{1,0} = I_1 & & R_{2,2} = \\frac{16}{15} R_{2,1} - \\frac{1}{15} R_{1,1}\\\\\n",
    "& R_{2,1} = \\frac{4}{3} R_{2,0} - \\frac{1}{3} R_{1,0} &\\\\\n",
    "R_{2,0} = I_2 & &\n",
    "\\end{array}\n",
    "$$\n",
    "\n",
    "After another round of calculations we get\n",
    "\n",
    "$$\n",
    "\\begin{array}{cccc}\n",
    "R_{0,0} = I_0 & & &\\\\\n",
    "& R_{1,1} = \\frac{4}{3} R_{1,0} - \\frac{1}{3} R_{0,0} & &\\\\\n",
    "R_{1,0} = I_1 & & R_{2,2} = \\frac{16}{15} R_{2,1} - \\frac{1}{15} R_{1,1} &\\\\\n",
    "& R_{2,1} = \\frac{4}{3} R_{2,0} - \\frac{1}{3} R_{1,0} & & R_{3, 3} = \\frac{64}{63} R_{3,2} - \\frac{1}{63} R_{2,2}\\\\\n",
    "R_{2,0} = I_2 & & R_{3,2} = \\frac{16}{15} R_{3,1} - \\frac{1}{15} R_{2,1} &\\\\\n",
    "& R_{3,1} = \\frac{4}{3} R_{3,0} - \\frac{1}{3} R_{2,0} & &\\\\\n",
    "R_{3,0} = I_3 & & &\n",
    "\\end{array}\n",
    "$$\n",
    "\n",
    "where the error in $R_{3,3}$ is $\\mathcal{O}(h^8)$.\n",
    "\n",
    "The general extrapolation formula used in this scheme is\n",
    "\n",
    "$$\n",
    "R_{i,j} = \\frac{4^j R_{i,j−1} - R_{i−1,j−1}}{4^j - 1}\n",
    "$$\n",
    "\n",
    "**Exercise 4**\n",
    "\n",
    "Implement a function `romberg()` that performs Romberg integration until a tolerance `tol` is achieved. Note that the most accurate estimate of the integral is always the last diagonal term of the array, so the process needs to be continued until the difference between two successive diagonal terms $|R_{i,i} - R_{i-1,i-1}| < \\text{tol}$. Although the triangular array is convenient for hand computations, computer implementation of the Romberg algorithm can be carried out within a one-dimensional array $\\boldsymbol{r}$ (i.e. a list or a vector) that contains a diagonal row of the array $R_{i, :}$ at any time."
   ]
  },
  {
   "cell_type": "code",
   "execution_count": 9,
   "metadata": {
    "scrolled": false
   },
   "outputs": [
    {
     "data": {
      "text/plain": [
       "1.9999999999732525"
      ]
     },
     "execution_count": 9,
     "metadata": {},
     "output_type": "execute_result"
    }
   ],
   "source": [
    "def my_romberg(f, a, b, tol=1e-6):\n",
    "    \"\"\"df = simpson(f, a, b, tol=1e-6).\n",
    "    Calculates the definite integral of the function f(x)\n",
    "    from a to b using Romberg integration based on the\n",
    "    trapezoidal rule until a specified tolerance tol is\n",
    "    reached (with default tol=...).\n",
    "    \"\"\"\n",
    "    #  First perform the recursive trapezoid rule to get all the Rx0 values \n",
    "    hk = lambda a, b, k: (b-a)/(2**k)\n",
    "    h0 = hk(a, b, 0)\n",
    "    I0 = (f(a)+f(b))*(h0/2)  # with k=0\n",
    "    h1 = hk(a, b, 1)\n",
    "    I1 = (1/2)*I0 + f(a+h1)*h1  # with k=1\n",
    "    \n",
    "    Ilist = [I0, I1]\n",
    "    \n",
    "    for k in range(2, 10000, 1):\n",
    "        if abs(I1-I0) < tol:  # I1 = Ik and I0 = I_k-1\n",
    "            break\n",
    "        else:\n",
    "            I0 = I1  # Update the value for I_k-1\n",
    "            varsum = 0\n",
    "            for i in range(1, 2**k, 2):  \n",
    "                varsum += f(a+i*hk(a, b, k))\n",
    "            I1 = (1/2)*I0 + hk(a, b, k)*varsum\n",
    "            Ilist.append(I1)\n",
    "\n",
    "    Rij = lambda ra, rb, j: (((4**j)*ra)-rb)/((4**j)-1)\n",
    "    while len(Ilist) != 1:\n",
    "#         print(len(Ilist), Ilist)\n",
    "        Rlist = []\n",
    "        j = 0\n",
    "        for val in range(0, len(Ilist)-1, 1):\n",
    "            j += 1\n",
    "#             print(j, Rij(Ilist[val+1], Ilist[val], j))\n",
    "            Rlist.append(Rij(Ilist[val+1], Ilist[val], j))\n",
    "        Ilist = Rlist\n",
    "    return Ilist[0]\n",
    "\n",
    "my_romberg(np.cos, -0.5 * np.pi, 0.5 * np.pi, tol=1e-12)"
   ]
  },
  {
   "cell_type": "code",
   "execution_count": 10,
   "metadata": {},
   "outputs": [],
   "source": [
    "def rombergDave(f, a, b, tol=1e-6):\n",
    "    \"\"\"df = simpson(f, a, b, tol=1e-6).\n",
    "    Calculates the definite integral of the function f(x)\n",
    "    from a to b using Romberg integration based on the\n",
    "    trapezoidal rule until a specified tolerance tol is\n",
    "    reached (with default tol=...).\n",
    "    \"\"\"\n",
    "    h = b-a  # interval size\n",
    "    n = 1\n",
    "    Rold = [(f(a) + f(b)) * (h/2)]\n",
    "    error = 1e10\n",
    "    while error > tol:\n",
    "        h /= 2.0\n",
    "        n *= 2\n",
    "        Rnew = [ 0.5 * Rold[0] + sum(f(a+o*h) for o in range(1, n, 2)) * h]\n",
    "        factor = 1\n",
    "        for R in Rold:\n",
    "            factor *= 4\n",
    "            Rnew.append( (factor * Rnew[-1] - R) / (factor - 1))\n",
    "        error = abs(Rnew[-1] - Rold[-1])\n",
    "        Rold = Rnew\n",
    "    return Rnew[-1]"
   ]
  },
  {
   "cell_type": "markdown",
   "metadata": {},
   "source": [
    "We apply the Romberg integration rule to the cosine integral one final time. Once more, verify that the specified tolerance (or better) is indeed reached."
   ]
  },
  {
   "cell_type": "code",
   "execution_count": 11,
   "metadata": {},
   "outputs": [
    {
     "name": "stdout",
     "output_type": "stream",
     "text": [
      "I:  2.000000e+00 (error=-2.7e-11)\n"
     ]
    }
   ],
   "source": [
    "# Example: integral of cos(x) from -pi/2 to pi/2\n",
    "I_romberg = my_romberg(np.cos, -0.5 * np.pi, 0.5 * np.pi, tol=1e-12)\n",
    "print(f'I: {I_romberg:13.6e} (error={I_romberg-I_exact:8.1e})')"
   ]
  },
  {
   "cell_type": "code",
   "execution_count": 12,
   "metadata": {},
   "outputs": [
    {
     "name": "stdout",
     "output_type": "stream",
     "text": [
      "I:  2.000000e+00 (error=-4.4e-16)\n"
     ]
    }
   ],
   "source": [
    "# Example: integral of cos(x) from -pi/2 to pi/2\n",
    "I_romberg = rombergDave(np.cos, -0.5 * np.pi, 0.5 * np.pi, tol=1e-12)\n",
    "I_exact = 2.0\n",
    "print(f'I: {I_romberg:13.6e} (error={I_romberg-I_exact:8.1e})')"
   ]
  },
  {
   "cell_type": "markdown",
   "metadata": {},
   "source": [
    "### Exercises\n",
    "\n",
    "**Exercise 5**\n",
    "\n",
    "Determine the value of the definite integral $\\int_0^1 2^x \\text{d}x$ to approximately six decimals using the following three methods:\n",
    "\n",
    "* analytically, using symbolic integration;\n",
    "\n",
    "* using your own functions `trapezoid()`, `simpson()` and `romberg()`;\n",
    "\n",
    "* using the functions [quadrature](https://docs.scipy.org/doc/scipy/reference/generated/scipy.integrate.quadrature.html) and [romberg](https://docs.scipy.org/doc/scipy/reference/generated/scipy.integrate.romberg.html) of the module `scipy.integrate`.\n",
    "\n",
    "Which are the most accurate?"
   ]
  },
  {
   "cell_type": "code",
   "execution_count": 13,
   "metadata": {},
   "outputs": [],
   "source": [
    "from scipy.integrate import quadrature, romberg"
   ]
  },
  {
   "cell_type": "code",
   "execution_count": 14,
   "metadata": {},
   "outputs": [
    {
     "name": "stdout",
     "output_type": "stream",
     "text": [
      "Self written\n",
      "trapezoid: 1.4426952612345114\n",
      "simpson: 1.442695040888965\n",
      "romberg: 1.4426941617331377\n",
      "\n",
      "\n",
      "Scipy\n",
      "quadrature: (1.4426950408889492, 4.2491565821478616e-11)\n",
      "romberg: 1.442695040888964\n"
     ]
    }
   ],
   "source": [
    "int2x = lambda x : 2**x\n",
    "print('Self written')\n",
    "print(f'trapezoid: {trapezoid(int2x, 0, 1)}')\n",
    "print(f'simpson: {simpson(int2x, 0, 1)}')\n",
    "print(f'romberg: {my_romberg(int2x, 0, 1)}')\n",
    "print('\\n')\n",
    "print('Scipy')\n",
    "print(f'quadrature: {quadrature(int2x, 0, 1)}')\n",
    "print(f'romberg: {romberg(int2x, 0, 1)}')"
   ]
  },
  {
   "cell_type": "markdown",
   "metadata": {},
   "source": [
    "**Exercise 6**\n",
    "\n",
    "A circle with radius 1 can be described by the equation $x^2 + y^2 = 1$. From this equation, you can derive the function $y(x)$ that describes the upper half of this circle. Theoretically, the area below this curve should therefore equal $\\frac{1}{2}\\pi$. Using this function in combination with the recursive trapezoid method and the Romberg integration method, calculate the value of $\\pi$ up to twelve decimals accuracy. How do the runtimes of these methods compare? Hint: use the `%time` [notebook magic command](https://ipython.readthedocs.io/en/stable/interactive/magics.html#magic-time)."
   ]
  },
  {
   "cell_type": "code",
   "execution_count": 15,
   "metadata": {},
   "outputs": [],
   "source": [
    "import matplotlib.pyplot as plt"
   ]
  },
  {
   "cell_type": "code",
   "execution_count": 16,
   "metadata": {},
   "outputs": [
    {
     "data": {
      "image/png": "[encoded data removed]",
      "text/plain": [
       "<Figure size 432x288 with 1 Axes>"
      ]
     },
     "metadata": {
      "needs_background": "light"
     },
     "output_type": "display_data"
    }
   ],
   "source": [
    "from math import sqrt\n",
    "yx = lambda x : sqrt(1-x**2)\n",
    "x = np.linspace(-1, 1, 101)\n",
    "y = [yx(i) for i in x]\n",
    "\n",
    "plt.plot(x, y)\n",
    "plt.show()"
   ]
  },
  {
   "cell_type": "code",
   "execution_count": 17,
   "metadata": {},
   "outputs": [
    {
     "name": "stdout",
     "output_type": "stream",
     "text": [
      "romberg: 1.5707963244876149\n",
      "pi/2 = 1.5707963267948966\n"
     ]
    }
   ],
   "source": [
    "# print(f'trapezoid: {trapezoid(yx, -1, 1, 1e-8)}')\n",
    "# print(f'simpson: {simpson(yx, -1, 1)}')\n",
    "print(f'romberg: {my_romberg(yx, -1, 1, 1e-8)}')\n",
    "print(f'pi/2 = {np.pi/2}')"
   ]
  },
  {
   "cell_type": "markdown",
   "metadata": {},
   "source": [
    "**Exercise 7**\n",
    "\n",
    "Plot the function $f(x) = \\sqrt{x^2-x^4}$ and calculate the area under this curve between $x=-1$ and $x=1$. Use your own trapezoid and Romberg integration rules with a tolerance `tol=1e-6`. Explain why the outcomes do not seem to make sense."
   ]
  },
  {
   "cell_type": "markdown",
   "metadata": {},
   "source": [
    "Answer: Because it is summing negative and positive together"
   ]
  },
  {
   "cell_type": "code",
   "execution_count": 18,
   "metadata": {},
   "outputs": [
    {
     "data": {
      "image/png": "[encoded data removed]",
      "text/plain": [
       "<Figure size 432x288 with 1 Axes>"
      ]
     },
     "metadata": {
      "needs_background": "light"
     },
     "output_type": "display_data"
    }
   ],
   "source": [
    "fx = lambda x: np.sqrt(x**2 - x**4)\n",
    "x = np.linspace(-1, 1, 101)\n",
    "y = [fx(i) for i in x]\n",
    "\n",
    "plt.plot(x, y)\n",
    "plt.show()"
   ]
  },
  {
   "cell_type": "code",
   "execution_count": 19,
   "metadata": {},
   "outputs": [
    {
     "name": "stdout",
     "output_type": "stream",
     "text": [
      "trapezoid: 0.6666658711749596\n",
      "romberg: 0.6666662900312694\n"
     ]
    }
   ],
   "source": [
    "print(f'trapezoid: {trapezoid(fx, -1, 0, 1e-6)+trapezoid(fx, 0, 1, 1e-6)}')\n",
    "print(f'romberg: {my_romberg(fx, -1, 0) + my_romberg(fx, 0, 1)}')"
   ]
  },
  {
   "cell_type": "markdown",
   "metadata": {},
   "source": [
    "**Exercise 8**\n",
    "\n",
    "The present functions do not seem to be able to compute integrals with bounds that involve infinity. However, this can be circumvented by means of a coordinate transformation. For instance, to calculate the integral\n",
    "\n",
    "$$\n",
    "I = \\int_{-\\infty}^{\\infty} e^{-z^2} \\text{d}z\n",
    "$$\n",
    "\n",
    "that is hopefully familiar from the gaussian distribution, we can use a transformation like for instance\n",
    "\n",
    "$$\n",
    "z = \\frac{t}{1-t^2}\n",
    "$$\n",
    "\n",
    "Verify for yourself that when $t$ goes from -1 to +1, $z$ goes from $-\\infty$ to $+\\infty$. Now, because\n",
    "\n",
    "$$\n",
    "\\frac{\\text{d}z}{\\text{d}t} = \\frac{1+t^2}{(1-t^2)^2}\n",
    "$$\n",
    "\n",
    "the integral can be rewritten as\n",
    "\n",
    "$$\n",
    "I = \\int_{-1}^1 e^{-\\left( \\frac{t}{1-t^2} \\right)^2} \\cdot \\frac{1+t^2}{(1-t^2)^2} \\text{d}t\n",
    "$$\n",
    "\n",
    "Compute the value of the integral $\\int_{-\\infty}^{\\infty} e^{-z^2} \\text{d}z$ to approximately nine digits accuracy using an algorithm of your own choice and compare it to the theoretical value $I = \\sqrt{\\pi}$. Hint: slightly adjust the integration limits to prevent division by zero errors."
   ]
  },
  {
   "cell_type": "code",
   "execution_count": null,
   "metadata": {},
   "outputs": [],
   "source": [
    "pass # WRITE YOUR OWN CODE HERE"
   ]
  },
  {
   "cell_type": "markdown",
   "metadata": {},
   "source": [
    "***"
   ]
  }
 ],
 "metadata": {
  "kernelspec": {
   "display_name": "Python 3 (ipykernel)",
   "language": "python",
   "name": "python3"
  },
  "language_info": {
   "codemirror_mode": {
    "name": "ipython",
    "version": 3
   },
   "file_extension": ".py",
   "mimetype": "text/x-python",
   "name": "python",
   "nbconvert_exporter": "python",
   "pygments_lexer": "ipython3",
   "version": "3.8.12"
  }
 },
 "nbformat": 4,
 "nbformat_minor": 2
}
